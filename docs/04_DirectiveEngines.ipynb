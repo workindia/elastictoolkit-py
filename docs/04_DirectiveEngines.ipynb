{
 "cells": [
  {
   "cell_type": "markdown",
   "metadata": {},
   "source": [
    "# Directive Engines\n",
    "\n",
    "In this notebook, we'll explore how to use directive engines to orchestrate multiple directives and build complex queries. Engines provide a way to organize and combine directives in a structured, maintainable way."
   ]
  },
  {
   "cell_type": "markdown",
   "metadata": {},
   "source": [
    "## Introduction to Directive Engines\n",
    "\n",
    "While individual directives are powerful, real-world search applications often require combining multiple query conditions. Directive engines solve this problem by:\n",
    "\n",
    "1. Organizing directives in a structured way\n",
    "2. Handling the coordination between directives\n",
    "3. Managing value mapping and parameter resolution\n",
    "4. Building the final query structure\n",
    "\n",
    "The toolkit provides two main types of engines:\n",
    "\n",
    "- **DirectiveEngine**: For standard boolean queries\n",
    "- **FunctionScoreEngine**: For queries that need custom scoring functions"
   ]
  },
  {
   "cell_type": "markdown",
   "metadata": {},
   "source": [
    "## Setup\n",
    "\n",
    "Let's import the necessary modules:"
   ]
  },
  {
   "cell_type": "code",
   "execution_count": null,
   "metadata": {},
   "outputs": [],
   "source": [
    "import json\n",
    "from elastictoolkit.queryutils.builder.directiveengine import DirectiveEngine\n",
    "from elastictoolkit.queryutils.builder.matchdirective import (\n",
    "    ConstMatchDirective,\n",
    "    TextMatchDirective,\n",
    "    RangeMatchDirective,\n",
    "    FieldExistsDirective\n",
    ")\n",
    "from elastictoolkit.queryutils.builder.directivevaluemapper import DirectiveValueMapper\n",
    "from elastictoolkit.queryutils.types import FieldValue\n",
    "from elastictoolkit.queryutils.consts import FieldMatchType, MatchMode\n",
    "\n",
    "# Helper function to print queries as formatted JSON\n",
    "def print_query(engine):\n",
    "    query = engine.to_dsl()\n",
    "    print(json.dumps(query.to_query(), indent=2))"
   ]
  },
  {
   "cell_type": "markdown",
   "metadata": {},
   "source": [
    "## Creating a Simple Engine\n",
    "\n",
    "Let's start by creating a simple directive engine for product search:"
   ]
  },
  {
   "cell_type": "code",
   "execution_count": null,
   "metadata": {
    "scrolled": true
   },
   "outputs": [],
   "source": [
    "class ProductSearchEngine(DirectiveEngine):\n",
    "    # Define directives as class attributes\n",
    "    category = ConstMatchDirective(rule=FieldMatchType.ANY)\n",
    "    in_stock = ConstMatchDirective(rule=FieldMatchType.ANY)\n",
    "    \n",
    "    class Config:\n",
    "        # Engine configuration\n",
    "        value_mapper = None  # Will be set later\n",
    "\n",
    "# Create a value mapper\n",
    "class ProductValueMapper(DirectiveValueMapper):\n",
    "    category = FieldValue(\n",
    "        fields=[\"category\"],\n",
    "        values_list=[\"match_params.category\"]\n",
    "    )\n",
    "    in_stock = FieldValue(\n",
    "        fields=[\"in_stock\"],\n",
    "        values_list=[True]\n",
    "    )\n",
    "\n",
    "# Set the value mapper | This is for demo purpose only - Always create ValueMapper and directly set it in the Config of a DirectiveEngine\n",
    "ProductSearchEngine.Config.value_mapper = ProductValueMapper()\n",
    "\n",
    "# Create an engine instance with match parameters\n",
    "engine = ProductSearchEngine().set_match_params({\"category\": \"electronics\"})\n",
    "\n",
    "# Generate the query\n",
    "print_query(engine)"
   ]
  },
  {
   "cell_type": "markdown",
   "metadata": {},
   "source": [
    "This simple engine generates a boolean query that matches documents in the \"electronics\" category that are in stock. Let's break down how it works:\n",
    "\n",
    "1. We define a `ProductSearchEngine` class that inherits from `DirectiveEngine`\n",
    "2. We define directives as class attributes (`category` and `in_stock`)\n",
    "3. We create a `ProductValueMapper` to map directive names to fields and values\n",
    "4. We set the value mapper in the engine's `Config` class\n",
    "5. We create an engine instance with match parameters\n",
    "6. We generate the query using the `to_dsl()` method\n",
    "\n",
    "The engine automatically discovers the directives, applies the value mapping, and builds the query."
   ]
  },
  {
   "cell_type": "markdown",
   "metadata": {},
   "source": [
    "## Adding More Directives\n",
    "\n",
    "Let's expand our engine with more directives for a more comprehensive product search:"
   ]
  },
  {
   "cell_type": "code",
   "execution_count": null,
   "metadata": {},
   "outputs": [],
   "source": [
    "class AdvancedProductValueMapper(DirectiveValueMapper):\n",
    "    category = FieldValue(\n",
    "        fields=[\"category\"],\n",
    "        values_list=[\"match_params.category\"]\n",
    "    )\n",
    "    in_stock = FieldValue(\n",
    "        fields=[\"in_stock\"],\n",
    "        values_list=[True]\n",
    "    )\n",
    "    price_range = FieldValue(\n",
    "        fields=[\"price\"],\n",
    "        values_map={\n",
    "            \"gte\": \"match_params.min_price\",\n",
    "            \"lte\": \"match_params.max_price\"\n",
    "        }\n",
    "    )\n",
    "    search = FieldValue(\n",
    "        fields=[\"name\", \"description\"],\n",
    "        values_list=[\"match_params.search_text\"]\n",
    "    )\n",
    "\n",
    "class AdvancedProductSearchEngine(DirectiveEngine):\n",
    "    # Basic filters\n",
    "    category = ConstMatchDirective(rule=FieldMatchType.ANY)\n",
    "    in_stock = ConstMatchDirective(rule=FieldMatchType.ANY)\n",
    "    \n",
    "    # Price range\n",
    "    price_range = RangeMatchDirective()\n",
    "    \n",
    "    # Text search\n",
    "    search = TextMatchDirective(rule=FieldMatchType.ANY)\n",
    "    \n",
    "    class Config:\n",
    "        value_mapper = AdvancedProductValueMapper()\n",
    "\n",
    "# Create an engine instance with match parameters\n",
    "engine = AdvancedProductSearchEngine().set_match_params(\n",
    "    {\n",
    "        \"category\": \"electronics\",\n",
    "        \"min_price\": 50,\n",
    "        \"max_price\": 200,\n",
    "        \"search_text\": \"wireless headphones\"\n",
    "    }\n",
    ")\n",
    "\n",
    "# Generate the query\n",
    "print_query(engine)"
   ]
  },
  {
   "cell_type": "markdown",
   "metadata": {},
   "source": [
    "This advanced engine generates a more complex query that:\n",
    "\n",
    "1. Matches documents in the \"electronics\" category\n",
    "2. Ensures they are in stock\n",
    "3. Filters by price range (50-200)\n",
    "4. Performs a text search for \"wireless headphones\" in the name and description fields\n",
    "\n",
    "All of this is achieved with a clean, declarative syntax that separates the query structure from the runtime parameters."
   ]
  },
  {
   "cell_type": "markdown",
   "metadata": {},
   "source": [
    "## Conditional Directives\n",
    "\n",
    "In many cases, you want to apply certain directives only if specific parameters are provided. Let's see how to handle this:"
   ]
  },
  {
   "cell_type": "code",
   "execution_count": null,
   "metadata": {},
   "outputs": [],
   "source": [
    "class ConditionalValueMapper(DirectiveValueMapper):\n",
    "    in_stock = FieldValue(\n",
    "        fields=[\"in_stock\"],\n",
    "        values_list=[True]\n",
    "    )\n",
    "    category = FieldValue(\n",
    "        fields=[\"category\"],\n",
    "        values_list=[\"match_params.category\"]\n",
    "    )\n",
    "    brand = FieldValue(\n",
    "        fields=[\"brand\"],\n",
    "        values_list=[\"match_params.brand\"]\n",
    "    )\n",
    "    price_range = FieldValue(\n",
    "        fields=[\"price\"],\n",
    "        values_map={\n",
    "            \"gte\": \"match_params.min_price\",\n",
    "            \"lte\": \"match_params.max_price\"\n",
    "        }\n",
    "    )\n",
    "    search = FieldValue(\n",
    "        fields=[\"name\", \"description\"],\n",
    "        values_list=[\"match_params.search_text\"]\n",
    "    )\n",
    "\n",
    "class ConditionalSearchEngine(DirectiveEngine):\n",
    "    # Always applied\n",
    "    in_stock = ConstMatchDirective(rule=FieldMatchType.ANY)\n",
    "    \n",
    "    # Conditionally applied | if value is present in `match_params`\n",
    "    category = ConstMatchDirective(rule=FieldMatchType.ANY, nullable_value=True)\n",
    "    brand = ConstMatchDirective(rule=FieldMatchType.ANY, nullable_value=True)\n",
    "    price_range = RangeMatchDirective(nullable_value=True)\n",
    "    search = TextMatchDirective(rule=FieldMatchType.ANY, nullable_value=True)\n",
    "    \n",
    "    class Config:\n",
    "        value_mapper = ConditionalValueMapper()\n",
    "\n",
    "# Create an engine instance with only some parameters\n",
    "engine = ConditionalSearchEngine().set_match_params(\n",
    "    {\n",
    "        \"category\": \"electronics\",\n",
    "        \"search_text\": \"wireless headphones\"\n",
    "        # No brand or price range parameters\n",
    "    }\n",
    ")\n",
    "\n",
    "# Generate the query\n",
    "print_query(engine)"
   ]
  },
  {
   "cell_type": "markdown",
   "metadata": {},
   "source": [
    "In this example, the `brand` and `price_range` directives are not applied because the corresponding parameters are not provided. Both the directive had the parameter: `nullable_value` set to `True` and hence the engine skipped without adding any query for the respective directives. In case, this parameter (`nullable_value`) was not set, the engine would throw Exception."
   ]
  },
  {
   "cell_type": "markdown",
   "metadata": {},
   "source": [
    "## Engine Configuration\n",
    "\n",
    "Directive engines can be configured through the `Config` class. Let's explore some configuration options:"
   ]
  },
  {
   "cell_type": "code",
   "execution_count": null,
   "metadata": {},
   "outputs": [],
   "source": [
    "from elastictoolkit.queryutils.consts import AndQueryOp, BaseMatchOp\n",
    "from elastictoolkit.queryutils.builder.helpers.valueparser import (\n",
    "    RuntimeValueParser,\n",
    ")\n",
    "\n",
    "class ConfigurableEngine(DirectiveEngine):\n",
    "    category = ConstMatchDirective(rule=FieldMatchType.ANY)\n",
    "    search = TextMatchDirective(rule=FieldMatchType.ANY)\n",
    "    \n",
    "    class Config:\n",
    "        value_mapper = ConditionalValueMapper()\n",
    "        \n",
    "        # The following are the Default Parameters\n",
    "        match_directive_config = { \n",
    "            \"value_parser_config\": {                 # Dynamic Value Resolver Config\n",
    "                \"parser_cls\": RuntimeValueParser,\n",
    "                \"prefix\": \"match_params\",\n",
    "            },\n",
    "            \"and_query_op\": AndQueryOp.FILTER,       # Whether to use FILTER/MUST for AND query operation\n",
    "            \"base_match_op\": BaseMatchOp.AND,        # Base Boolean condition for merging directive queries\n",
    "        }\n",
    "\n",
    "# Create an engine instance\n",
    "engine = ConfigurableEngine().set_match_params(\n",
    "    {\n",
    "        \"category\": \"electronics\",\n",
    "        \"search_text\": \"wireless headphones\"\n",
    "    }\n",
    ")\n",
    "\n",
    "# Generate the query\n",
    "print(\":: BEFORE ::\\n\")\n",
    "print_query(engine)\n",
    "\n",
    "\n",
    "# Update the MatchDirective Config\n",
    "\n",
    "class UpdatedConfigurationEngine(ConfigurableEngine):\n",
    "    class Config:\n",
    "        value_mapper = ConditionalValueMapper()\n",
    "        \n",
    "        # Configure how match directives are processed \n",
    "        match_directive_config = {\n",
    "            \"base_match_op\": BaseMatchOp.OR, # This will change the base boolean condition of merging the directives which is AND by default\n",
    "        }\n",
    "\n",
    "# Create an engine instance\n",
    "engine = UpdatedConfigurationEngine().set_match_params(\n",
    "    {\n",
    "        \"category\": \"electronics\",\n",
    "        \"search_text\": \"wireless headphones\"\n",
    "    }\n",
    ")\n",
    "\n",
    "# Generate the query\n",
    "print(\"\\n:: AFTER [Same Engine with Updated Configuration] ::\\n\")\n",
    "print_query(engine)"
   ]
  },
  {
   "cell_type": "markdown",
   "metadata": {},
   "source": [
    "The `match_directive_config` option allows you to configure how match directives are processed. In this example, we're configuring the value parser to allow None values and resolve list values."
   ]
  },
  {
   "cell_type": "markdown",
   "metadata": {},
   "source": [
    "## Extending Engines\n",
    "\n",
    "You can extend existing engines to add or override directives:"
   ]
  },
  {
   "cell_type": "code",
   "execution_count": null,
   "metadata": {},
   "outputs": [],
   "source": [
    "class BaseProductEngine(DirectiveEngine):\n",
    "    category = ConstMatchDirective(rule=FieldMatchType.ANY)\n",
    "    in_stock = ConstMatchDirective(rule=FieldMatchType.ANY)\n",
    "    \n",
    "    class Config:\n",
    "        value_mapper = ConditionalValueMapper()\n",
    "\n",
    "class ExtendedProductEngine(BaseProductEngine):\n",
    "    # Add new directives\n",
    "    brand = ConstMatchDirective(rule=FieldMatchType.ANY)\n",
    "    search = TextMatchDirective(rule=FieldMatchType.ANY)\n",
    "    \n",
    "    # Override existing directives\n",
    "    category = ConstMatchDirective(rule=FieldMatchType.ALL)  # Changed from ANY to ALL\n",
    "\n",
    "# Create an engine instance\n",
    "engine = ExtendedProductEngine().set_match_params(\n",
    "    {\n",
    "        \"category\": [\"electronics\", \"audio\"],  # Now requires ALL categories\n",
    "        \"brand\": \"Sony\",\n",
    "        \"search_text\": \"wireless headphones\"\n",
    "    }\n",
    ")\n",
    "\n",
    "# Generate the query\n",
    "print_query(engine)"
   ]
  },
  {
   "cell_type": "markdown",
   "metadata": {},
   "source": [
    "In this example, we've extended the `BaseProductEngine` to add new directives (`brand` and `search`) and override an existing directive (`category`). This allows you to create a hierarchy of engines for different use cases while reusing common directives."
   ]
  },
  {
   "cell_type": "markdown",
   "metadata": {},
   "source": [
    "### Removing Parent Directive\n",
    "\n",
    "You can also remove a directive from parent engine altogether by setting it to `None`"
   ]
  },
  {
   "cell_type": "code",
   "execution_count": null,
   "metadata": {},
   "outputs": [],
   "source": [
    "class ExtendedAnyCategoryProductEngine(BaseProductEngine):\n",
    "    # Add new directives\n",
    "    brand = ConstMatchDirective(rule=FieldMatchType.ANY)\n",
    "    search = TextMatchDirective(rule=FieldMatchType.ANY)\n",
    "    \n",
    "    # Removing the parent directive altogether by setting it to None\n",
    "    category = None\n",
    "\n",
    "# Create an engine instance\n",
    "engine = ExtendedProductEngine().set_match_params(\n",
    "    {\n",
    "        \"brand\": \"Sony\",\n",
    "        \"search_text\": \"wireless headphones\"\n",
    "    }\n",
    ")\n",
    "\n",
    "# Generate the query\n",
    "print_query(engine)"
   ]
  },
  {
   "cell_type": "markdown",
   "metadata": {},
   "source": [
    "## Dynamic Engine Creation\n",
    "\n",
    "In very rare cases, you might want to create engines dynamically based on runtime conditions. Let's see how to do this:\n",
    "\n",
    "__NOTE__: The __prefered way__ of solving the usecase demonstrated below would be setting the values in `match_params` to `None` and setting the `nullable_value` parameter for `price_range` and `brand` directives to `True` instead of generating Engine dynamically. Use the following for very advanced usecases only."
   ]
  },
  {
   "cell_type": "code",
   "execution_count": null,
   "metadata": {},
   "outputs": [],
   "source": [
    "def create_dynamic_engine(include_price=False, include_brand=False):\n",
    "    class DynamicEngine(DirectiveEngine):\n",
    "        category = ConstMatchDirective(rule=FieldMatchType.ANY)\n",
    "        in_stock = ConstMatchDirective(rule=FieldMatchType.ANY)\n",
    "        search = TextMatchDirective(rule=FieldMatchType.ANY)\n",
    "        \n",
    "        class Config:\n",
    "            value_mapper = ConditionalValueMapper()\n",
    "    \n",
    "    # Conditionally add directives\n",
    "    if include_price:\n",
    "        DynamicEngine.price_range = RangeMatchDirective()\n",
    "    \n",
    "    if include_brand:\n",
    "        DynamicEngine.brand = ConstMatchDirective(rule=FieldMatchType.ANY)\n",
    "    \n",
    "    return DynamicEngine\n",
    "\n",
    "# Create a dynamic engine with price range but no brand\n",
    "DynamicEngine = create_dynamic_engine(include_price=False, include_brand=False)\n",
    "\n",
    "# Create an engine instance\n",
    "engine = DynamicEngine().set_match_params(\n",
    "    {\n",
    "        \"category\": \"electronics\",\n",
    "        \"search_text\": \"wireless headphones\",\n",
    "        \"min_price\": 50,\n",
    "        \"max_price\": 200\n",
    "    }\n",
    ")\n",
    "\n",
    "# Generate the query\n",
    "print_query(engine)"
   ]
  },
  {
   "cell_type": "markdown",
   "metadata": {},
   "source": [
    "This approach allows you to create engines with different sets of directives based on runtime conditions. It's particularly useful for building flexible search interfaces where the available filters might change based on user permissions, context, or other factors."
   ]
  },
  {
   "cell_type": "markdown",
   "metadata": {},
   "source": [
    "## Handling Errors\n",
    "\n",
    "When working with directive engines, you might encounter errors if directives are misconfigured or if required parameters are missing. Let's see how to handle these errors:"
   ]
  },
  {
   "cell_type": "code",
   "execution_count": null,
   "metadata": {},
   "outputs": [],
   "source": [
    "class ErrorHandlingEngine(DirectiveEngine):\n",
    "    in_stock = ConstMatchDirective(rule=FieldMatchType.ANY)\n",
    "    category = ConstMatchDirective(rule=FieldMatchType.ANY)\n",
    "    \n",
    "    class Config:\n",
    "        value_mapper = ConditionalValueMapper()\n",
    "\n",
    "# Create an engine instance without the required parameter\n",
    "engine = ErrorHandlingEngine().set_match_params(\n",
    "    {}  # Missing 'category' parameter\n",
    ")\n",
    "\n",
    "# Try to generate the query\n",
    "try:\n",
    "    query = engine.to_dsl()\n",
    "    print(json.dumps(query.to_query(), indent=2))\n",
    "except Exception as e:\n",
    "    print(f\"Error: {e}\")"
   ]
  },
  {
   "cell_type": "markdown",
   "metadata": {},
   "source": [
    "To handle these errors gracefully, you can use a try-except block or configure the engine to allow None values:"
   ]
  },
  {
   "cell_type": "code",
   "execution_count": null,
   "metadata": {},
   "outputs": [],
   "source": [
    "class NullableEngine(DirectiveEngine):\n",
    "    in_stock = ConstMatchDirective(rule=FieldMatchType.ANY)\n",
    "    category = ConstMatchDirective(rule=FieldMatchType.ANY, nullable_value=True)\n",
    "    \n",
    "    class Config:\n",
    "        value_mapper = ConditionalValueMapper()\n",
    "\n",
    "\n",
    "# Create an engine instance without the required parameter\n",
    "engine = NullableEngine().set_match_params(\n",
    "    {}  # Missing 'category' parameter\n",
    ")\n",
    "\n",
    "# Generate the query\n",
    "query = engine.to_dsl()\n",
    "print(json.dumps(query.to_query(), indent=2))"
   ]
  },
  {
   "cell_type": "markdown",
   "metadata": {},
   "source": [
    "In this case, the engine will skip the `category` directive because the required parameter is missing, but it won't raise an error."
   ]
  },
  {
   "cell_type": "markdown",
   "metadata": {},
   "source": [
    "## Summary\n",
    "\n",
    "In this notebook, we've explored how to use directive engines to orchestrate multiple directives and build complex queries. We've covered:\n",
    "\n",
    "- Creating simple and advanced engines\n",
    "- Configuring engines with value mappers\n",
    "- Handling conditional directives\n",
    "- Extending engines\n",
    "- Creating dynamic engines\n",
    "- Handling errors\n",
    "\n",
    "Directive engines provide a powerful way to organize and combine directives in a structured, maintainable way. They handle the coordination between directives, manage value mapping and parameter resolution, and build the final query structure.\n",
    "\n",
    "In the next notebook, we'll explore how to use value mappers in more depth to handle complex field-value relationships."
   ]
  }
 ],
 "metadata": {
  "kernelspec": {
   "display_name": "Python 3 (ipykernel)",
   "language": "python",
   "name": "python3"
  },
  "language_info": {
   "codemirror_mode": {
    "name": "ipython",
    "version": 3
   },
   "file_extension": ".py",
   "mimetype": "text/x-python",
   "name": "python",
   "nbconvert_exporter": "python",
   "pygments_lexer": "ipython3",
   "version": "3.10.14"
  }
 },
 "nbformat": 4,
 "nbformat_minor": 4
}
