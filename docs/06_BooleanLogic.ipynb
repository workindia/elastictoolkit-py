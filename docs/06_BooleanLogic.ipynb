{
 "cells": [
  {
   "cell_type": "markdown",
   "metadata": {},
   "source": [
    "# Boolean Logic\n",
    "\n",
    "In this notebook, we'll explore how to use boolean logic to combine multiple directives. The Elasticsearch Query Toolkit provides powerful boolean directives that allow you to create complex query conditions.\n",
    "\n",
    "__NOTE__: This is a demo on how Boolean Directives work under the hood but they are __not to be used directly__. The correct way of using Boolean Directives is inside a `CustomMatchDirective` which will come in the upcoming tutorials."
   ]
  },
  {
   "cell_type": "markdown",
   "metadata": {},
   "source": [
    "## Introduction to Boolean Directives\n",
    "\n",
    "Boolean directives allow you to combine multiple directives using logical operators. The toolkit provides two main boolean directives:\n",
    "\n",
    "- **AndDirective**: Requires all child directives to match (logical AND)\n",
    "- **OrDirective**: Requires at least one child directive to match (logical OR)\n",
    "\n",
    "These directives can be nested to create complex boolean expressions."
   ]
  },
  {
   "cell_type": "markdown",
   "metadata": {},
   "source": [
    "## Setup\n",
    "\n",
    "Let's import the necessary modules:"
   ]
  },
  {
   "cell_type": "code",
   "execution_count": null,
   "metadata": {},
   "outputs": [],
   "source": [
    "import json\n",
    "from elastictoolkit.queryutils.builder.directivevaluemapper import DirectiveValueMapper\n",
    "from elastictoolkit.queryutils.builder.matchdirective import (\n",
    "    ConstMatchDirective,\n",
    "    TextMatchDirective,\n",
    "    RangeMatchDirective,\n",
    "    FieldExistsDirective\n",
    ")\n",
    "from elastictoolkit.queryutils.builder.booldirective import (\n",
    "    AndDirective,\n",
    "    OrDirective\n",
    ")\n",
    "from elastictoolkit.queryutils.consts import FieldMatchType, MatchMode\n",
    "\n",
    "# Helper function to print queries as formatted JSON\n",
    "def print_query(directive):\n",
    "    query = directive.to_dsl()\n",
    "    print(json.dumps(query.to_query(), indent=2))"
   ]
  },
  {
   "cell_type": "markdown",
   "metadata": {},
   "source": [
    "## Basic Boolean Queries\n",
    "\n",
    "Let's start with a simple example of using boolean directives to combine multiple match conditions:"
   ]
  },
  {
   "cell_type": "code",
   "execution_count": null,
   "metadata": {},
   "outputs": [],
   "source": [
    "class ValueMapper(DirectiveValueMapper):\n",
    "    pass\n",
    "\n",
    "# Create match directives\n",
    "category_directive = ConstMatchDirective(rule=FieldMatchType.ANY)\n",
    "category_directive.set_field(\"category\")\n",
    "category_directive.set_values(\"electronics\")\n",
    "category_directive.set_match_params({})\n",
    "\n",
    "in_stock_directive = ConstMatchDirective(rule=FieldMatchType.ANY)\n",
    "in_stock_directive.set_field(\"in_stock\")\n",
    "in_stock_directive.set_values(True)\n",
    "in_stock_directive.set_match_params({})\n",
    "\n",
    "# Combine with AND\n",
    "and_directive = AndDirective(category=category_directive, in_stock=in_stock_directive)\n",
    "and_directive.set_directive_value_mapper(ValueMapper())\n",
    "and_directive.set_match_params({})\n",
    "\n",
    "print(\"AND Directive:\")\n",
    "print_query(and_directive)"
   ]
  },
  {
   "cell_type": "code",
   "execution_count": null,
   "metadata": {},
   "outputs": [],
   "source": [
    "# Combine with OR\n",
    "or_directive = OrDirective(category=category_directive, in_stock=in_stock_directive)\n",
    "or_directive.set_directive_value_mapper(ValueMapper())\n",
    "or_directive.set_match_params({})\n",
    "\n",
    "print(\"OR Directive:\")\n",
    "print_query(or_directive)"
   ]
  },
  {
   "cell_type": "markdown",
   "metadata": {},
   "source": [
    "In these examples:\n",
    "\n",
    "- The `AndDirective` generates a query that requires both conditions to match (category must be \"electronics\" AND in_stock must be true)\n",
    "- The `OrDirective` generates a query that requires at least one condition to match (category must be \"electronics\" OR in_stock must be true)"
   ]
  },
  {
   "cell_type": "markdown",
   "metadata": {},
   "source": [
    "## Nested Boolean Logic\n",
    "\n",
    "Boolean directives can be nested to create complex boolean expressions:"
   ]
  },
  {
   "cell_type": "code",
   "execution_count": null,
   "metadata": {},
   "outputs": [],
   "source": [
    "# Create additional directives\n",
    "price_directive = RangeMatchDirective()\n",
    "price_directive.set_field(\"price\")\n",
    "price_directive.set_values(gte=50, lte=200)\n",
    "price_directive.set_match_params({})\n",
    "\n",
    "brand_directive = ConstMatchDirective(rule=FieldMatchType.ANY)\n",
    "brand_directive.set_field(\"brand\")\n",
    "brand_directive.set_values([\"Apple\", \"Samsung\"])\n",
    "brand_directive.set_match_params({})\n",
    "\n",
    "# Create a nested boolean expression: (category AND in_stock) OR (price AND brand)\n",
    "and_directive1 = AndDirective(category=category_directive, in_stock=in_stock_directive)\n",
    "and_directive1.set_match_params({})\n",
    "and_directive1.set_directive_value_mapper(ValueMapper())\n",
    "\n",
    "and_directive2 = AndDirective(price=price_directive, brand=brand_directive)\n",
    "and_directive2.set_match_params({})\n",
    "and_directive2.set_directive_value_mapper(ValueMapper())\n",
    "\n",
    "or_directive = OrDirective(and_directive1, and_directive2)\n",
    "or_directive.set_match_params({})\n",
    "or_directive.set_directive_value_mapper(ValueMapper())\n",
    "\n",
    "print(\"Nested Boolean Expression:\")\n",
    "print_query(or_directive)"
   ]
  },
  {
   "cell_type": "markdown",
   "metadata": {},
   "source": [
    "This example demonstrates how to create a complex boolean expression: (category AND in_stock) OR (price AND brand). The resulting query will match documents that either:\n",
    "\n",
    "1. Have category=\"electronics\" AND in_stock=true, OR\n",
    "2. Have price between 50 and 200 AND brand is either \"Apple\" or \"Samsung\""
   ]
  },
  {
   "cell_type": "markdown",
   "metadata": {},
   "source": [
    "## Dynamic Value Resolution in Boolean Logic\n",
    "\n",
    "Boolean directives can also work with dynamic values from match parameters:"
   ]
  },
  {
   "cell_type": "code",
   "execution_count": null,
   "metadata": {},
   "outputs": [],
   "source": [
    "from elastictoolkit.queryutils.builder.directivevaluemapper import DirectiveValueMapper\n",
    "from elastictoolkit.queryutils.types import FieldValue\n",
    "\n",
    "# Define a value mapper\n",
    "class ProductValueMapper(DirectiveValueMapper):\n",
    "    category = FieldValue(\n",
    "        fields=[\"category\"],\n",
    "        values_list=[\"match_params.category\"]\n",
    "    )\n",
    "    price_range = FieldValue(\n",
    "        fields=[\"price\"],\n",
    "        values_map={\n",
    "            \"gte\": \"match_params.min_price\",\n",
    "            \"lte\": \"match_params.max_price\"\n",
    "        }\n",
    "    )\n",
    "    brand = FieldValue(\n",
    "        fields=[\"brand\"],\n",
    "        values_list=[\"*match_params.brands\"]\n",
    "    )\n",
    "\n",
    "# Create match parameters\n",
    "match_params = {\n",
    "    \"category\": \"electronics\",\n",
    "    \"min_price\": 50,\n",
    "    \"max_price\": 200,\n",
    "    \"brands\": [\"Apple\", \"Samsung\"]\n",
    "}\n",
    "\n",
    "# Combine with AND | Field and Values will be mapped directly via `ProductValueMapper`\n",
    "and_directive = AndDirective(\n",
    "    category=ConstMatchDirective(rule=FieldMatchType.ANY), \n",
    "    price_range=RangeMatchDirective(), \n",
    "    brand=ConstMatchDirective(rule=FieldMatchType.ANY),\n",
    ")\n",
    "and_directive.set_match_params(match_params)\n",
    "and_directive.set_directive_value_mapper(ProductValueMapper())\n",
    "\n",
    "print(\"Dynamic Boolean Query:\")\n",
    "print_query(and_directive)"
   ]
  },
  {
   "cell_type": "markdown",
   "metadata": {},
   "source": [
    "This example demonstrates how to create a boolean query with dynamic values from match parameters. The resulting query will match documents that have:\n",
    "\n",
    "1. category=\"electronics\" AND\n",
    "2. price between 50 and 200 AND\n",
    "3. brand is either \"Apple\" or \"Samsung\"\n",
    "\n",
    "The values are resolved dynamically from the match parameters, making the query adaptable to different inputs."
   ]
  },
  {
   "cell_type": "markdown",
   "metadata": {},
   "source": [
    "This example demonstrates how to create conditional boolean logic based on the presence of certain parameters. The function `create_product_query` builds a query that always includes a category filter, but only includes price and brand filters if the corresponding parameters are present."
   ]
  },
  {
   "cell_type": "markdown",
   "metadata": {},
   "source": [
    "## Boolean Logic in Directive Engines\n",
    "\n",
    "The directive engine itself generates a boolean query, the base boolean condition by default is `AND` but is configurable and can be changed to `OR`. For `NOT` queries always use `MatchMode.EXCLUDE` for `mode` parm in `MatchDirective`(s):"
   ]
  },
  {
   "cell_type": "code",
   "execution_count": null,
   "metadata": {},
   "outputs": [],
   "source": [
    "from elastictoolkit.queryutils.builder.directiveengine import DirectiveEngine\n",
    "from elastictoolkit.queryutils.consts import BaseMatchOp, MatchMode\n",
    "\n",
    "class ProductSearchEngine(DirectiveEngine):\n",
    "    # Define directives as class attributes\n",
    "    category = ConstMatchDirective(rule=FieldMatchType.ANY)\n",
    "    price_range = RangeMatchDirective()\n",
    "    brand = ConstMatchDirective(rule=FieldMatchType.ANY, mode=MatchMode.EXCLUDE)\n",
    "    \n",
    "    class Config:\n",
    "        value_mapper = ProductValueMapper()\n",
    "        match_directive_config = {\n",
    "            \"base_match_op\": BaseMatchOp.AND  # Default is AND\n",
    "        }\n",
    "\n",
    "match_params = {\n",
    "    \"category\": \"electronics\",\n",
    "    \"min_price\": 50,\n",
    "    \"max_price\": 200,\n",
    "    \"brands\": [\"Apple\", \"Samsung\"]\n",
    "}\n",
    "\n",
    "# Create an engine instance with match parameters\n",
    "engine = ProductSearchEngine().set_match_params(match_params)\n",
    "\n",
    "print(\"AND Engine:\")\n",
    "print_query(engine)\n",
    "\n",
    "# Create an OR engine\n",
    "class OrProductSearchEngine(ProductSearchEngine):\n",
    "    class Config:\n",
    "        value_mapper = ProductValueMapper()\n",
    "        match_directive_config = {\n",
    "            \"base_match_op\": BaseMatchOp.OR  # Change to OR\n",
    "        }\n",
    "\n",
    "# Create an engine instance with match parameters\n",
    "or_engine = OrProductSearchEngine().set_match_params(match_params)\n",
    "\n",
    "print(\"\\nOR Engine:\")\n",
    "print_query(or_engine)"
   ]
  },
  {
   "cell_type": "markdown",
   "metadata": {},
   "source": [
    "This example demonstrates how to use directive engines to handle boolean logic. The `ProductSearchEngine` combines directives using AND logic by default, while the `OrProductSearchEngine` combines them using OR logic. This approach is more declarative and maintainable than manually creating boolean directives."
   ]
  },
  {
   "cell_type": "markdown",
   "metadata": {},
   "source": [
    "## Summary\n",
    "\n",
    "In this notebook, we've explored how to use boolean logic to combine multiple directives. We've covered:\n",
    "\n",
    "- Basic boolean queries with AND and OR directives\n",
    "- Nested boolean expressions\n",
    "- Dynamic boolean logic with match parameters\n",
    "- Boolean logic in directive engines\n",
    "\n",
    "Boolean directives provide a powerful way to create complex query conditions by combining multiple directives using logical operators. When combined with directive engines, they offer a declarative, maintainable approach to building complex search queries.\n",
    "\n",
    "In the next notebook, we'll explore how to create custom directives to encapsulate complex query patterns."
   ]
  }
 ],
 "metadata": {
  "kernelspec": {
   "display_name": "Python 3 (ipykernel)",
   "language": "python",
   "name": "python3"
  },
  "language_info": {
   "codemirror_mode": {
    "name": "ipython",
    "version": 3
   },
   "file_extension": ".py",
   "mimetype": "text/x-python",
   "name": "python",
   "nbconvert_exporter": "python",
   "pygments_lexer": "ipython3",
   "version": "3.10.14"
  }
 },
 "nbformat": 4,
 "nbformat_minor": 4
}
