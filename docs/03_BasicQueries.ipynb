{
 "cells": [
  {
   "cell_type": "markdown",
   "metadata": {},
   "source": [
    "# Basic Query Construction\n",
    "\n",
    "In this notebook, we'll explore how to construct basic queries using individual match directives. We'll cover each type of match directive and show how to configure them for different use cases."
   ]
  },
  {
   "cell_type": "markdown",
   "metadata": {},
   "source": [
    "## Setup\n",
    "\n",
    "First, let's import the necessary modules:"
   ]
  },
  {
   "cell_type": "code",
   "execution_count": null,
   "metadata": {},
   "outputs": [],
   "source": [
    "import json\n",
    "from elastictoolkit.queryutils.builder.matchdirective import (\n",
    "    ConstMatchDirective,\n",
    "    TextMatchDirective,\n",
    "    RangeMatchDirective,\n",
    "    FieldExistsDirective,\n",
    "    ScriptMatchDirective,\n",
    "    QueryStringMatchDirective\n",
    ")\n",
    "from elastictoolkit.queryutils.consts import FieldMatchType, MatchMode\n",
    "from elastictoolkit.queryutils.types import NestedField\n",
    "\n",
    "# Helper function to print queries as formatted JSON\n",
    "def print_query(directive):\n",
    "    query = directive.to_dsl()\n",
    "    print(json.dumps(query.to_query(), indent=2))"
   ]
  },
  {
   "cell_type": "markdown",
   "metadata": {},
   "source": [
    "## ConstMatchDirective\n",
    "\n",
    "The `ConstMatchDirective` is used for exact matching. It generates a `term` query for single values or a `terms` query for multiple values. This is ideal for matching structured data like categories, tags, or IDs."
   ]
  },
  {
   "cell_type": "code",
   "execution_count": null,
   "metadata": {},
   "outputs": [],
   "source": [
    "# Create a simple ConstMatchDirective\n",
    "directive = ConstMatchDirective(rule=FieldMatchType.ANY)\n",
    "directive.set_field(\"category\")\n",
    "directive.set_values(\"electronics\")\n",
    "directive.set_match_params({})\n",
    "\n",
    "print_query(directive)"
   ]
  },
  {
   "cell_type": "markdown",
   "metadata": {},
   "source": [
    "### Multiple Values\n",
    "\n",
    "You can match against multiple values using the `rule` parameter to control how they're combined:"
   ]
  },
  {
   "cell_type": "code",
   "execution_count": null,
   "metadata": {},
   "outputs": [],
   "source": [
    "# Match ANY of the values (OR logic)\n",
    "directive = ConstMatchDirective(rule=FieldMatchType.ANY)\n",
    "directive.set_field(\"category\")\n",
    "directive.set_values(\"electronics\", \"computers\", \"accessories\")\n",
    "directive.set_match_params({})\n",
    "\n",
    "print_query(directive)"
   ]
  },
  {
   "cell_type": "code",
   "execution_count": null,
   "metadata": {},
   "outputs": [],
   "source": [
    "# Match ALL of the values (AND logic)\n",
    "directive = ConstMatchDirective(rule=FieldMatchType.ALL)\n",
    "directive.set_field(\"tags\")\n",
    "directive.set_values(\"wireless\", \"bluetooth\", \"headphones\")\n",
    "directive.set_match_params({})\n",
    "\n",
    "print_query(directive)"
   ]
  },
  {
   "cell_type": "markdown",
   "metadata": {},
   "source": [
    "### Multiple Fields\n",
    "\n",
    "You can also match against multiple fields:"
   ]
  },
  {
   "cell_type": "code",
   "execution_count": null,
   "metadata": {},
   "outputs": [],
   "source": [
    "directive = ConstMatchDirective(rule=FieldMatchType.ANY)\n",
    "directive.set_field(\"category\", \"subcategory\")\n",
    "directive.set_values(\"electronics\")\n",
    "directive.set_match_params({})\n",
    "\n",
    "print_query(directive)"
   ]
  },
  {
   "cell_type": "markdown",
   "metadata": {},
   "source": [
    "### Exclusion Mode\n",
    "\n",
    "You can use the `mode` parameter to exclude documents that match:"
   ]
  },
  {
   "cell_type": "code",
   "execution_count": null,
   "metadata": {},
   "outputs": [],
   "source": [
    "directive = ConstMatchDirective(rule=FieldMatchType.ANY, mode=MatchMode.EXCLUDE)\n",
    "directive.set_field(\"category\")\n",
    "directive.set_values(\"discontinued\")\n",
    "directive.set_match_params({})\n",
    "\n",
    "print_query(directive)"
   ]
  },
  {
   "cell_type": "markdown",
   "metadata": {},
   "source": [
    "## TextMatchDirective\n",
    "\n",
    "The `TextMatchDirective` is used for full-text search. It generates a `match` query for single fields or a `multi_match` query for multiple fields. This is ideal for searching text content like titles, descriptions, or content."
   ]
  },
  {
   "cell_type": "code",
   "execution_count": null,
   "metadata": {},
   "outputs": [],
   "source": [
    "directive = TextMatchDirective(rule=FieldMatchType.ANY)\n",
    "directive.set_field(\"title\", \"description\")\n",
    "directive.set_values(\"wireless headphones\")\n",
    "directive.set_match_params({})\n",
    "\n",
    "print_query(directive)"
   ]
  },
  {
   "cell_type": "markdown",
   "metadata": {},
   "source": [
    "### Advanced Text Matching\n",
    "\n",
    "You can configure additional parameters for text matching:"
   ]
  },
  {
   "cell_type": "code",
   "execution_count": null,
   "metadata": {},
   "outputs": [],
   "source": [
    "directive = TextMatchDirective(rule=FieldMatchType.ANY)\n",
    "directive.set_field(\"title\", \"description\")\n",
    "directive.set_values(\"wireless headphones\")\n",
    "directive.set_match_params({})\n",
    "directive.set_match_query_extra_args(\n",
    "    fuzziness=\"AUTO\",\n",
    "    operator=\"and\",\n",
    "    minimum_should_match=\"75%\"\n",
    ")\n",
    "\n",
    "print_query(directive)"
   ]
  },
  {
   "cell_type": "markdown",
   "metadata": {},
   "source": [
    "## RangeMatchDirective\n",
    "\n",
    "The `RangeMatchDirective` is used for range queries. It generates a `range` query that matches documents with field values within a specified range."
   ]
  },
  {
   "cell_type": "code",
   "execution_count": null,
   "metadata": {},
   "outputs": [],
   "source": [
    "directive = RangeMatchDirective()\n",
    "directive.set_field(\"price\")\n",
    "directive.set_values(gt=50, lte=200)\n",
    "directive.set_match_params({})\n",
    "\n",
    "print_query(directive)"
   ]
  },
  {
   "cell_type": "markdown",
   "metadata": {},
   "source": [
    "### Date Ranges\n",
    "\n",
    "Range queries are particularly useful for date ranges:"
   ]
  },
  {
   "cell_type": "code",
   "execution_count": null,
   "metadata": {},
   "outputs": [],
   "source": [
    "directive = RangeMatchDirective()\n",
    "directive.set_field(\"created_date\")\n",
    "directive.set_values(gte=\"2023-01-01\", lt=\"2024-01-01\")\n",
    "directive.set_match_params({})\n",
    "\n",
    "print_query(directive)"
   ]
  },
  {
   "cell_type": "markdown",
   "metadata": {},
   "source": [
    "## FieldExistsDirective\n",
    "\n",
    "The `FieldExistsDirective` is used to check if a field exists in a document. It generates an `exists` query."
   ]
  },
  {
   "cell_type": "code",
   "execution_count": null,
   "metadata": {},
   "outputs": [],
   "source": [
    "directive = FieldExistsDirective()\n",
    "directive.set_field(\"thumbnail\")\n",
    "directive.set_match_params({})\n",
    "\n",
    "print_query(directive)"
   ]
  },
  {
   "cell_type": "markdown",
   "metadata": {},
   "source": [
    "### Checking for Missing Fields\n",
    "\n",
    "You can also check for missing fields using the `mode` parameter:"
   ]
  },
  {
   "cell_type": "code",
   "execution_count": null,
   "metadata": {},
   "outputs": [],
   "source": [
    "directive = FieldExistsDirective(mode=MatchMode.EXCLUDE)\n",
    "directive.set_field(\"thumbnail\")\n",
    "directive.set_match_params({})\n",
    "\n",
    "print_query(directive)"
   ]
  },
  {
   "cell_type": "markdown",
   "metadata": {},
   "source": [
    "## ScriptMatchDirective\n",
    "\n",
    "The `ScriptMatchDirective` is used to match documents using a script. It generates a `script` query that allows for complex matching logic."
   ]
  },
  {
   "cell_type": "code",
   "execution_count": null,
   "metadata": {},
   "outputs": [],
   "source": [
    "directive = ScriptMatchDirective(\n",
    "    script=\"doc['price'].value < doc['msrp'].value * 0.75\"\n",
    ")\n",
    "directive.set_match_params({})\n",
    "\n",
    "print_query(directive)"
   ]
  },
  {
   "cell_type": "markdown",
   "metadata": {},
   "source": [
    "### Scripts with Parameters\n",
    "\n",
    "You can use parameters in your scripts for better reusability:"
   ]
  },
  {
   "cell_type": "code",
   "execution_count": null,
   "metadata": {},
   "outputs": [],
   "source": [
    "directive = ScriptMatchDirective(script=\"doc['price'].value < doc['msrp'].value * params.discount_factor\")\n",
    "directive.set_values(discount_factor=0.75) # All the kwargs passed here will end up in script-params\n",
    "directive.set_match_params({})\n",
    "\n",
    "print_query(directive)"
   ]
  },
  {
   "cell_type": "markdown",
   "metadata": {},
   "source": [
    "## QueryStringMatchDirective\n",
    "\n",
    "The `QueryStringMatchDirective` is used for complex text queries using Elasticsearch's query string syntax. It generates a `query_string` query."
   ]
  },
  {
   "cell_type": "code",
   "execution_count": null,
   "metadata": {},
   "outputs": [],
   "source": [
    "directive = QueryStringMatchDirective(rule=FieldMatchType.ANY)\n",
    "directive.set_field(\"title\", \"description\")\n",
    "directive.set_values(\"wireless AND (headphones OR earbuds) -wired\")\n",
    "directive.set_match_params({})\n",
    "\n",
    "print_query(directive)"
   ]
  },
  {
   "cell_type": "markdown",
   "metadata": {},
   "source": [
    "### Advanced Query String Options\n",
    "\n",
    "You can configure additional parameters for query string matching:"
   ]
  },
  {
   "cell_type": "code",
   "execution_count": null,
   "metadata": {},
   "outputs": [],
   "source": [
    "directive = QueryStringMatchDirective(rule=FieldMatchType.ANY)\n",
    "directive.set_field(\"title\", \"description\")\n",
    "directive.set_values(\"wireless AND (headphones OR earbuds) -wired\")\n",
    "directive.set_match_params({})\n",
    "directive.set_match_query_extra_args(\n",
    "    default_operator=\"AND\",\n",
    "    fuzziness=\"AUTO\",\n",
    "    boost=2.0\n",
    ")\n",
    "\n",
    "print_query(directive)"
   ]
  },
  {
   "cell_type": "markdown",
   "metadata": {},
   "source": [
    "## Working with Nested Fields\n",
    "\n",
    "Elasticsearch supports nested fields for complex document structures. The toolkit provides the `NestedField` class to work with nested fields:"
   ]
  },
  {
   "cell_type": "code",
   "execution_count": null,
   "metadata": {},
   "outputs": [],
   "source": [
    "directive = ConstMatchDirective(rule=FieldMatchType.ANY)\n",
    "directive.set_field(\n",
    "    NestedField(nested_path=\"reviews\", field_name=\"reviews.rating\")\n",
    ")\n",
    "directive.set_values(5)\n",
    "directive.set_match_params({})\n",
    "\n",
    "print_query(directive)"
   ]
  },
  {
   "cell_type": "markdown",
   "metadata": {},
   "source": [
    "### Multiple Nested Fields\n",
    "\n",
    "You can combine multiple nested fields in a single directive:"
   ]
  },
  {
   "cell_type": "code",
   "execution_count": null,
   "metadata": {},
   "outputs": [],
   "source": [
    "directive = ConstMatchDirective(rule=FieldMatchType.ANY)\n",
    "directive.set_field(\n",
    "    NestedField(nested_path=\"reviews\", field_name=\"reviews.rating\"),\n",
    "    NestedField(nested_path=\"variants\", field_name=\"variants.in_stock\")\n",
    ")\n",
    "directive.set_values(True)\n",
    "directive.set_match_params({})\n",
    "\n",
    "print_query(directive)"
   ]
  },
  {
   "cell_type": "markdown",
   "metadata": {},
   "source": [
    "## Dynamic Values with Match Parameters\n",
    "\n",
    "One of the powerful features of the toolkit is the ability to use dynamic values through match parameters. This allows you to create reusable directives that adapt to runtime parameters."
   ]
  },
  {
   "cell_type": "code",
   "execution_count": null,
   "metadata": {},
   "outputs": [],
   "source": [
    "from elastictoolkit.queryutils.builder.directivevaluemapper import DirectiveValueMapper\n",
    "from elastictoolkit.queryutils.types import FieldValue\n",
    "\n",
    "# Define a value mapper\n",
    "class ProductValueMapper(DirectiveValueMapper):\n",
    "    price_range = FieldValue(\n",
    "        fields=[\"price\"],\n",
    "        values_map={\n",
    "            \"gte\": \"match_params.min_price\",\n",
    "            \"lte\": \"match_params.max_price\"\n",
    "        }\n",
    "    )\n",
    "\n",
    "# Create a directive\n",
    "directive = RangeMatchDirective()\n",
    "directive.set_field(\"price\")\n",
    "\n",
    "# Set match parameters\n",
    "match_params = {\"min_price\": 50, \"max_price\": 200}\n",
    "directive.set_match_params(match_params)\n",
    "\n",
    "# Use the value mapper to resolve values\n",
    "value_mapper = ProductValueMapper()\n",
    "attr_field_mapping = value_mapper.get_field_value(\"price_range\")\n",
    "directive.set_values(**attr_field_mapping.values_map)\n",
    "\n",
    "print_query(directive)"
   ]
  },
  {
   "cell_type": "markdown",
   "metadata": {},
   "source": [
    "## Combining Multiple Directives\n",
    "\n",
    "While individual directives are powerful, the real strength of the toolkit comes from combining multiple directives. In the next notebook, we'll explore how to use directive engines to orchestrate multiple directives."
   ]
  },
  {
   "cell_type": "markdown",
   "metadata": {},
   "source": [
    "## Summary\n",
    "\n",
    "In this notebook, we've explored the basic query construction using individual match directives:\n",
    "\n",
    "- **ConstMatchDirective**: For exact matching\n",
    "- **TextMatchDirective**: For full-text search\n",
    "- **RangeMatchDirective**: For range queries\n",
    "- **FieldExistsDirective**: For checking if fields exist\n",
    "- **ScriptMatchDirective**: For script-based matching\n",
    "- **QueryStringMatchDirective**: For complex text queries\n",
    "\n",
    "We've also seen how to work with nested fields and dynamic values using match parameters.\n",
    "\n",
    "In the next notebook, we'll explore how to use directive engines to orchestrate multiple directives and build more complex queries."
   ]
  }
 ],
 "metadata": {
  "kernelspec": {
   "display_name": "Python 3 (ipykernel)",
   "language": "python",
   "name": "python3"
  },
  "language_info": {
   "codemirror_mode": {
    "name": "ipython",
    "version": 3
   },
   "file_extension": ".py",
   "mimetype": "text/x-python",
   "name": "python",
   "nbconvert_exporter": "python",
   "pygments_lexer": "ipython3",
   "version": "3.10.14"
  }
 },
 "nbformat": 4,
 "nbformat_minor": 4
}
