{
 "cells": [
  {
   "cell_type": "markdown",
   "metadata": {},
   "source": [
    "# Core Concepts of Elasticsearch Query Toolkit\n",
    "\n",
    "This notebook explores the fundamental concepts and components of the Elasticsearch Query Toolkit. Understanding these core concepts will provide a solid foundation for building and customizing Elasticsearch queries using the toolkit."
   ]
  },
  {
   "cell_type": "markdown",
   "metadata": {},
   "source": [
    "## The Directive Pattern\n",
    "\n",
    "The Elasticsearch Query Toolkit is built around the **directive pattern**, which provides a declarative way to define query components. A directive is a self-contained unit that knows how to generate a specific part of an Elasticsearch query.\n",
    "\n",
    "### Key Characteristics of Directives\n",
    "\n",
    "- **Self-contained**: Each directive encapsulates a specific query operation\n",
    "- **Composable**: Directives can be combined to create complex queries\n",
    "- **Configurable**: Directives can be configured with fields, values, and parameters\n",
    "- **Reusable**: The same directive can be used in multiple contexts\n",
    "\n",
    "The directive pattern allows you to build queries in a modular, maintainable way, separating the query logic from the business logic of your application."
   ]
  },
  {
   "cell_type": "markdown",
   "metadata": {},
   "source": [
    "## Directive Types\n",
    "\n",
    "The toolkit provides several types of directives, each serving a specific purpose:\n",
    "\n",
    "### Match Directives\n",
    "\n",
    "Match directives are used to match documents based on field values. The toolkit includes several types of match directives:\n",
    "\n",
    "- **ConstMatchDirective**: Matches exact values (terms query)\n",
    "- **TextMatchDirective**: Performs full-text search with options like fuzziness\n",
    "- **RangeMatchDirective**: Matches values within a range\n",
    "- **FieldExistsDirective**: Checks if a field exists\n",
    "- **ScriptMatchDirective**: Uses a script to match documents\n",
    "- **QueryStringMatchDirective**: Uses Elasticsearch's query string syntax\n",
    "- **WaterfallFieldMatchDirective**: Tries multiple fields in sequence\n",
    "\n",
    "### Boolean Directives\n",
    "\n",
    "Boolean directives combine other directives using boolean logic:\n",
    "\n",
    "- **AndDirective**: Requires all child directives to match\n",
    "- **OrDirective**: Requires at least one child directive to match\n",
    "\n",
    "### Custom Directives\n",
    "\n",
    "- **CustomMatchDirective**: Allows you to create reusable, complex query patterns\n",
    "\n",
    "### Score Function Directives\n",
    "\n",
    "Score function directives are used with the FunctionScoreEngine to influence document scoring:\n",
    "\n",
    "- **ScriptScoreDirective**: Uses a script to calculate scores\n",
    "- **WeightDirective**: Applies a simple weight multiplier\n",
    "- **DecayFunctionDirective**: Applies distance-based scoring (linear, exp, gauss)"
   ]
  },
  {
   "cell_type": "markdown",
   "metadata": {},
   "source": [
    "## Directive Configuration\n",
    "\n",
    "All directives share a common configuration pattern. Let's look at the key configuration methods:"
   ]
  },
  {
   "cell_type": "code",
   "execution_count": null,
   "metadata": {},
   "outputs": [],
   "source": [
    "import json\n",
    "from elastictoolkit.queryutils.builder.matchdirective import ConstMatchDirective\n",
    "from elastictoolkit.queryutils.consts import FieldMatchType\n",
    "\n",
    "# Create a directive\n",
    "directive = ConstMatchDirective(rule=FieldMatchType.ANY, name=\"my_directive\")\n",
    "\n",
    "# Configure fields\n",
    "directive.set_field(\"title\", \"description\")\n",
    "\n",
    "# Configure values\n",
    "directive.set_values(\"elasticsearch\", \"python\")\n",
    "\n",
    "# Configure match parameters\n",
    "directive.set_match_params({\"param1\": \"value1\", \"param2\": \"value2\"})\n",
    "\n",
    "print(json.dumps(directive.to_dsl().to_query(), indent=2))"
   ]
  },
  {
   "cell_type": "markdown",
   "metadata": {},
   "source": [
    "### Common Configuration Methods\n",
    "\n",
    "- __set_field(*fields)__: Specifies the fields to match against\n",
    "- __set_values(*values_list, **values_map)__: Sets the values to match\n",
    "- __set_match_params(params)__: Sets runtime parameters for dynamic value resolution\n",
    "- __set_match_query_extra_args(**kwargs)__: Sets additional query-specific parameters\n",
    "\n",
    "### Field Match Types\n",
    "\n",
    "The `rule` parameter in match directives determines how multiple values are combined:\n",
    "\n",
    "- **FieldMatchType.ANY**: Match if any value matches (OR logic)\n",
    "- **FieldMatchType.ALL**: Match only if all values match (AND logic)\n",
    "\n",
    "### Match Modes\n",
    "\n",
    "The `mode` parameter determines how the directive is applied:\n",
    "\n",
    "- **MatchMode.INCLUDE**: Include documents that match (default)\n",
    "- **MatchMode.EXCLUDE**: Exclude documents that match\n",
    "- **MatchMode.INCLUDE_IF_EXIST_ANY**: Include documents only if any of the specified fields exist"
   ]
  },
  {
   "cell_type": "markdown",
   "metadata": {},
   "source": [
    "## Engines\n",
    "\n",
    "Engines orchestrate multiple directives to build complete queries. The toolkit provides two main types of engines:\n",
    "\n",
    "### DirectiveEngine\n",
    "\n",
    "The `DirectiveEngine` combines multiple match directives into a boolean query. It's the most common engine type and is used for standard search queries.\n",
    "\n",
    "### FunctionScoreEngine\n",
    "\n",
    "The `FunctionScoreEngine` extends from the same `BaseQueryEngine` as `DirectiveEngine` to support function score queries, which allow you to modify document scores based on factors other than relevance."
   ]
  },
  {
   "cell_type": "markdown",
   "metadata": {},
   "source": [
    "## Creating an Engine\n",
    "\n",
    "Engines are created by subclassing `DirectiveEngine` or `FunctionScoreEngine` and defining directives as class attributes:"
   ]
  },
  {
   "cell_type": "code",
   "execution_count": null,
   "metadata": {},
   "outputs": [],
   "source": [
    "from elastictoolkit.queryutils.builder.directiveengine import DirectiveEngine\n",
    "from elastictoolkit.queryutils.builder.matchdirective import ConstMatchDirective, TextMatchDirective\n",
    "from elastictoolkit.queryutils.consts import FieldMatchType\n",
    "\n",
    "class SearchEngine(DirectiveEngine):\n",
    "    # Define directives as class attributes\n",
    "    category = ConstMatchDirective(rule=FieldMatchType.ANY)\n",
    "    text_search = TextMatchDirective(rule=FieldMatchType.ANY)\n",
    "    \n",
    "    class Config:\n",
    "        # Engine configuration\n",
    "        value_mapper = None  # Will be set later\n",
    "\n",
    "engine = SearchEngine()"
   ]
  },
  {
   "cell_type": "markdown",
   "metadata": {},
   "source": [
    "## Value Mapping\n",
    "\n",
    "Value mapping is a powerful feature that allows you to define field-value relationships in a centralized way. This is done using the `DirectiveValueMapper` class:"
   ]
  },
  {
   "cell_type": "code",
   "execution_count": null,
   "metadata": {},
   "outputs": [],
   "source": [
    "from elastictoolkit.queryutils.builder.directivevaluemapper import DirectiveValueMapper\n",
    "from elastictoolkit.queryutils.types import FieldValue\n",
    "\n",
    "class SearchValueMapper(DirectiveValueMapper):\n",
    "    # Map directive names to fields and values\n",
    "    category = FieldValue(\n",
    "        fields=[\"category\", \"subcategory\"],\n",
    "        values_list=[\"match_params.category\"]\n",
    "    )\n",
    "    \n",
    "    text_search = FieldValue(\n",
    "        fields=[\"title\", \"description\"],\n",
    "        values_list=[\"match_params.search_text\"]\n",
    "    )"
   ]
  },
  {
   "cell_type": "markdown",
   "metadata": {},
   "source": [
    "### Dynamic Value Resolution\n",
    "\n",
    "Value mappers support dynamic value resolution using special syntax:\n",
    "\n",
    "- **\"match_params.key\"**: Resolves to the value of `match_params[\"key\"]`\n",
    "- __\"*match_params.key\"__: Resolves to the list of values in `match_params[\"key\"]` (if it's an iterable; eg: `list`)\n",
    "\n",
    "This allows you to create flexible queries that adapt to runtime parameters."
   ]
  },
  {
   "cell_type": "markdown",
   "metadata": {},
   "source": [
    "## Query Building Workflow\n",
    "\n",
    "Let's understand the workflow of how a query is built using the toolkit:\n",
    "\n",
    "1. **Engine Initialization**: An engine instance is created with match parameters\n",
    "2. **Directive Discovery**: The engine discovers directives defined as class attributes\n",
    "3. **Value Mapping**: The engine uses the value mapper to resolve fields and values for each directive\n",
    "4. **Directive Building**: Each directive is built with the resolved fields, values, and match parameters\n",
    "5. **Query Generation**: Each directive generates its part of the query\n",
    "6. **Query Composition**: The engine combines the individual query parts into a complete query\n",
    "\n",
    "This workflow happens automatically when you call the `to_dsl()` method on an engine instance."
   ]
  },
  {
   "cell_type": "markdown",
   "metadata": {},
   "source": [
    "## Complete Example\n",
    "\n",
    "Let's put it all together with a complete example:"
   ]
  },
  {
   "cell_type": "code",
   "execution_count": null,
   "metadata": {},
   "outputs": [],
   "source": [
    "import json\n",
    "from elastictoolkit.queryutils.builder.directiveengine import DirectiveEngine\n",
    "from elastictoolkit.queryutils.builder.matchdirective import ConstMatchDirective, TextMatchDirective\n",
    "from elastictoolkit.queryutils.builder.directivevaluemapper import DirectiveValueMapper\n",
    "from elastictoolkit.queryutils.types import FieldValue\n",
    "from elastictoolkit.queryutils.consts import FieldMatchType\n",
    "\n",
    "# Define a value mapper\n",
    "class ProductValueMapper(DirectiveValueMapper):\n",
    "    category = FieldValue(\n",
    "        fields=[\"category\"],\n",
    "        values_list=[\"match_params.category\"]\n",
    "    )\n",
    "    search = FieldValue(\n",
    "        fields=[\"name\", \"description\"],\n",
    "        values_list=[\"match_params.search_text\"]\n",
    "    )\n",
    "\n",
    "# Define an engine\n",
    "class ProductSearchEngine(DirectiveEngine):\n",
    "    category = ConstMatchDirective(rule=FieldMatchType.ANY)\n",
    "    search = TextMatchDirective(rule=FieldMatchType.ANY)\n",
    "    \n",
    "    class Config:\n",
    "        value_mapper = ProductValueMapper()\n",
    "\n",
    "# Create an engine instance with match parameters\n",
    "engine = ProductSearchEngine().set_match_params(\n",
    "    {\n",
    "        \"category\": \"electronics\",\n",
    "        \"search_text\": \"wireless headphones\"\n",
    "    }\n",
    ")\n",
    "\n",
    "# Generate the query\n",
    "query = engine.to_dsl()\n",
    "\n",
    "# Print the query as JSON\n",
    "print(json.dumps(query.to_query(), indent=2))"
   ]
  },
  {
   "cell_type": "markdown",
   "metadata": {},
   "source": [
    "## Nested Fields\n",
    "\n",
    "The toolkit supports Elasticsearch's nested fields through the `NestedField` class:"
   ]
  },
  {
   "cell_type": "code",
   "execution_count": null,
   "metadata": {},
   "outputs": [],
   "source": [
    "from elastictoolkit.queryutils.types import NestedField\n",
    "from elastictoolkit.queryutils.builder.matchdirective import ConstMatchDirective\n",
    "from elastictoolkit.queryutils.consts import FieldMatchType\n",
    "\n",
    "# Create a directive with nested fields\n",
    "directive = ConstMatchDirective(rule=FieldMatchType.ANY)\n",
    "directive.set_field(\n",
    "    \"regular_field\",\n",
    "    NestedField(nested_path=\"reviews\", field_name=\"reviews.rating\")\n",
    ")\n",
    "directive.set_values(5)\n",
    "directive.set_match_params({})\n",
    "\n",
    "# Generate the query\n",
    "query = directive.to_dsl()\n",
    "print(json.dumps(query.to_query(), indent=2))"
   ]
  },
  {
   "cell_type": "markdown",
   "metadata": {},
   "source": [
    "## Error Handling\n",
    "\n",
    "The toolkit provides clear error messages when directives are misconfigured. Common errors include:\n",
    "\n",
    "- Missing required fields\n",
    "- Missing required values\n",
    "- Missing match parameters\n",
    "- Invalid value types\n",
    "- Using a CustomMatchDirective with an incompatible engine\n",
    "\n",
    "Always check for these errors when debugging your queries."
   ]
  },
  {
   "cell_type": "markdown",
   "metadata": {},
   "source": [
    "## Next Steps\n",
    "\n",
    "Now that you understand the core concepts of the Elasticsearch Query Toolkit, you can proceed to the **Basic Queries** notebook to learn more about working with individual directives in detail."
   ]
  }
 ],
 "metadata": {
  "kernelspec": {
   "display_name": "Python 3 (ipykernel)",
   "language": "python",
   "name": "python3"
  },
  "language_info": {
   "codemirror_mode": {
    "name": "ipython",
    "version": 3
   },
   "file_extension": ".py",
   "mimetype": "text/x-python",
   "name": "python",
   "nbconvert_exporter": "python",
   "pygments_lexer": "ipython3",
   "version": "3.10.14"
  }
 },
 "nbformat": 4,
 "nbformat_minor": 4
}
