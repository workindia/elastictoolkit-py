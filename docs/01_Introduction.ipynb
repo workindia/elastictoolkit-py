{
 "cells": [
  {
   "cell_type": "markdown",
   "metadata": {},
   "source": [
    "# Introduction to Elasticsearch Query Toolkit\n",
    "\n",
    "Welcome to the Elasticsearch Query Toolkit documentation! This toolkit provides a powerful, intuitive way to build complex Elasticsearch queries using a directive-based approach. Whether you're building simple term queries or complex function score queries with nested boolean logic, this toolkit simplifies the process while maintaining flexibility."
   ]
  },
  {
   "cell_type": "markdown",
   "metadata": {},
   "source": [
    "## What is the Elasticsearch Query Toolkit?\n",
    "\n",
    "The Elasticsearch Query Toolkit is a Python library that provides an abstraction layer over Elasticsearch's query DSL. It allows you to:\n",
    "\n",
    "- Build complex queries using simple, reusable components\n",
    "- Separate query logic from business logic\n",
    "- Create maintainable, testable query structures\n",
    "- Handle dynamic parameters and value mapping\n",
    "- Compose queries from smaller, focused directives\n",
    "\n",
    "Instead of writing raw JSON or using the low-level Elasticsearch DSL, you can use high-level directives that encapsulate common query patterns."
   ]
  },
  {
   "cell_type": "markdown",
   "metadata": {},
   "source": [
    "## Key Concepts\n",
    "\n",
    "Before diving into the details, let's understand some key concepts:\n",
    "\n",
    "### Directives\n",
    "\n",
    "**Directives** are the building blocks of queries. Each directive represents a specific query operation, such as matching a field against a value, checking if a field exists, or applying a range filter.\n",
    "\n",
    "### Engines\n",
    "\n",
    "**Engines** orchestrate multiple directives to build complete queries. They handle the overall query structure and coordinate how directives are combined.\n",
    "\n",
    "### Value Mappers\n",
    "\n",
    "**Value Mappers** provide a way to map field names to values, supporting both static values and dynamic values from parameters.\n",
    "\n",
    "### Match Parameters\n",
    "\n",
    "**Match Parameters** are runtime values passed to queries, allowing for dynamic query generation based on user input or application state."
   ]
  },
  {
   "cell_type": "markdown",
   "metadata": {},
   "source": [
    "## Architecture Overview\n",
    "\n",
    "The toolkit follows a layered architecture:\n",
    "\n",
    "1. **Base Layer**: Core abstractions and interfaces\n",
    "2. **Directive Layer**: Specific query directives (ConstMatch, TextMatch, etc.)\n",
    "3. **Engine Layer**: Query orchestration and composition\n",
    "4. **Application Layer**: Your application code that uses the toolkit\n",
    "\n",
    "This separation allows for clean, maintainable code and makes it easy to extend the toolkit with custom directives and engines."
   ]
  },
  {
   "cell_type": "markdown",
   "metadata": {},
   "source": [
    "## Installation\n",
    "\n",
    "To install the Elasticsearch Query Toolkit, use pip:"
   ]
  },
  {
   "cell_type": "code",
   "execution_count": null,
   "metadata": {},
   "outputs": [],
   "source": [
    "# Install the toolkit\n",
    "# !pip install elastictoolkit-py"
   ]
  },
  {
   "cell_type": "markdown",
   "metadata": {},
   "source": [
    "## Basic Setup\n",
    "\n",
    "Let's start with a simple example to demonstrate how to use the toolkit:"
   ]
  },
  {
   "cell_type": "code",
   "execution_count": null,
   "metadata": {
    "scrolled": true
   },
   "outputs": [],
   "source": [
    "import json\n",
    "from elastictoolkit.queryutils.builder.matchdirective import ConstMatchDirective\n",
    "from elastictoolkit.queryutils.consts import FieldMatchType\n",
    "\n",
    "\n",
    "# Create a simple match directive\n",
    "directive = ConstMatchDirective(rule=FieldMatchType.ANY)\n",
    "\n",
    "# Set fields and values\n",
    "directive.set_field(\"title\", \"description\")\n",
    "directive.set_values(\"elasticsearch\", \"python\")\n",
    "directive.set_match_params({}) # Needs to be set explicitly even if empty\n",
    "\n",
    "# Generate the query DSL\n",
    "query = directive.to_dsl()\n",
    "\n",
    "# Print the query as JSON\n",
    "print(json.dumps(query.to_query(), indent=2))"
   ]
  },
  {
   "cell_type": "markdown",
   "metadata": {},
   "source": [
    "This simple example creates a query that matches documents where either the `title` or `description` field contains \"elasticsearch\" or \"python\"."
   ]
  },
  {
   "cell_type": "markdown",
   "metadata": {},
   "source": [
    "## Why Use This Toolkit?\n",
    "\n",
    "### 1. Simplifies Complex Queries\n",
    "\n",
    "Elasticsearch queries can become very complex, especially when dealing with nested boolean logic, function scores, and multiple match conditions. This toolkit breaks down that complexity into manageable components.\n",
    "\n",
    "### 2. Promotes Reusability\n",
    "\n",
    "Directives can be reused across different queries, promoting DRY (Don't Repeat Yourself) principles and making your code more maintainable.\n",
    "\n",
    "### 3. Improves Testability\n",
    "\n",
    "The directive-based approach makes it easier to test your queries in isolation, ensuring they produce the expected results.\n",
    "\n",
    "### 4. Handles Dynamic Parameters\n",
    "\n",
    "The toolkit provides a clean way to handle dynamic parameters, making it easy to build queries based on user input or application state."
   ]
  },
  {
   "cell_type": "markdown",
   "metadata": {},
   "source": [
    "## Use Cases\n",
    "\n",
    "The Elasticsearch Query Toolkit is suitable for a wide range of use cases:\n",
    "\n",
    "- **Search Applications**: Build powerful search experiences with complex ranking and filtering\n",
    "- **Data Analytics**: Create queries for aggregating and analyzing data\n",
    "- **Recommendation Systems**: Implement personalized recommendations using function score queries\n",
    "- **Content Management**: Filter and retrieve content based on multiple criteria\n",
    "- **E-commerce**: Build product search with faceted navigation and relevance tuning"
   ]
  },
  {
   "cell_type": "markdown",
   "metadata": {},
   "source": [
    "## Documentation Structure\n",
    "\n",
    "This documentation is organized to take you from basic concepts to advanced use cases:\n",
    "\n",
    "1. **Introduction** (this notebook): Overview and basic setup\n",
    "2. **Core Concepts**: Understanding the fundamental components\n",
    "3. **Basic Queries**: Working with individual directives\n",
    "4. **Directive Engines**: Orchestrating multiple directives\n",
    "5. **Value Mapping**: Handling field-value relationships\n",
    "6. **Boolean Logic**: Combining queries with AND/OR logic\n",
    "7. **Custom Directives**: Creating reusable query components\n",
    "8. **Function Score**: Boosting and filtering results\n",
    "9. **Custom Score Directives**: Creating reusable scoring functions\n",
    "10. **Building Application**: Building complete E-commerce Search Application"
   ]
  },
  {
   "cell_type": "markdown",
   "metadata": {},
   "source": [
    "## Getting Help\n",
    "\n",
    "If you encounter issues or have questions about the toolkit, you can:\n",
    "\n",
    "- Check the API Reference notebook for detailed documentation\n",
    "- Explore the example notebooks for guidance on specific use cases\n",
    "- Refer to the Elasticsearch documentation for underlying query DSL concepts"
   ]
  },
  {
   "cell_type": "markdown",
   "metadata": {},
   "source": [
    "## Next Steps\n",
    "\n",
    "Now that you have a basic understanding of the Elasticsearch Query Toolkit, proceed to the **Core Concepts** notebook to learn more about the fundamental components and how they work together."
   ]
  }
 ],
 "metadata": {
  "kernelspec": {
   "display_name": "Python 3 (ipykernel)",
   "language": "python",
   "name": "python3"
  },
  "language_info": {
   "codemirror_mode": {
    "name": "ipython",
    "version": 3
   },
   "file_extension": ".py",
   "mimetype": "text/x-python",
   "name": "python",
   "nbconvert_exporter": "python",
   "pygments_lexer": "ipython3",
   "version": "3.10.14"
  }
 },
 "nbformat": 4,
 "nbformat_minor": 4
}
